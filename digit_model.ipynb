{
 "cells": [
  {
   "cell_type": "code",
   "execution_count": 1,
   "metadata": {},
   "outputs": [],
   "source": [
    "from keras.models import Sequential\n",
    "from keras.layers import Dense, Dropout, Flatten\n",
    "from keras.layers import Conv2D, MaxPooling2D"
   ]
  },
  {
   "cell_type": "code",
   "execution_count": 2,
   "metadata": {},
   "outputs": [],
   "source": [
    "def simple_cnn_model(shape, num_classes):\n",
    "    # create\n",
    "    model = Sequential()\n",
    "    model.add(Conv2D(32, (5, 5), input_shape=shape, activation='relu'))\n",
    "    model.add(MaxPooling2D(pool_size=(2, 2)))\n",
    "    model.add(Dropout(0.2))\n",
    "    model.add(Flatten())\n",
    "    model.add(Dense(128, activation='relu'))\n",
    "    model.add(Dense(num_classes, activation='softmax'))\n",
    "\n",
    "    # compile\n",
    "    model.compile(loss='categorical_crossentropy', optimizer='adam', metrics=['accuracy'])\n",
    "    return model"
   ]
  },
  {
   "cell_type": "code",
   "execution_count": 1,
   "metadata": {},
   "outputs": [],
   "source": [
    "import numpy as np\n",
    "from keras.datasets import mnist\n",
    "from keras.utils import to_categorical"
   ]
  },
  {
   "cell_type": "code",
   "execution_count": 9,
   "metadata": {},
   "outputs": [],
   "source": [
    "\n",
    "# load data\n",
    "(X_train, y_train), (X_test, y_test) = mnist.load_data()\n",
    "shape = (X_train.shape[1], X_train.shape[2], 1)\n"
   ]
  },
  {
   "cell_type": "code",
   "execution_count": 11,
   "metadata": {},
   "outputs": [
    {
     "name": "stdout",
     "output_type": "stream",
     "text": [
      "(28, 28, 1)\n"
     ]
    }
   ],
   "source": [
    "print(shape)"
   ]
  },
  {
   "cell_type": "code",
   "execution_count": 12,
   "metadata": {},
   "outputs": [
    {
     "name": "stdout",
     "output_type": "stream",
     "text": [
      "(60000, 28, 28)\n"
     ]
    }
   ],
   "source": [
    "print(X_train.shape)"
   ]
  },
  {
   "cell_type": "code",
   "execution_count": 13,
   "metadata": {},
   "outputs": [],
   "source": [
    "\n",
    "# flatten images to vector\n",
    "X_train = X_train.reshape(X_train.shape[0], *shape).astype(\"float32\")\n",
    "X_test = X_test.reshape(X_test.shape[0], *shape).astype(\"float32\")"
   ]
  },
  {
   "cell_type": "code",
   "execution_count": 14,
   "metadata": {},
   "outputs": [
    {
     "name": "stdout",
     "output_type": "stream",
     "text": [
      "(60000, 28, 28, 1)\n"
     ]
    }
   ],
   "source": [
    "print(X_train.shape)"
   ]
  },
  {
   "cell_type": "code",
   "execution_count": 15,
   "metadata": {},
   "outputs": [],
   "source": [
    "# normalize inputs\n",
    "X_train = X_train/255\n",
    "X_test = X_test/255\n",
    "\n",
    "# one hot encoding\n",
    "y_train = to_categorical(y_train)\n",
    "y_test = to_categorical(y_test)\n",
    "num_classes = y_train.shape[1]"
   ]
  },
  {
   "cell_type": "code",
   "execution_count": 10,
   "metadata": {},
   "outputs": [
    {
     "name": "stdout",
     "output_type": "stream",
     "text": [
      "[0. 0. 0. 0. 0. 1. 0. 0. 0. 0.]\n"
     ]
    }
   ],
   "source": [
    "print(y_train[0])"
   ]
  },
  {
   "cell_type": "code",
   "execution_count": 13,
   "metadata": {},
   "outputs": [
    {
     "name": "stdout",
     "output_type": "stream",
     "text": [
      "Epoch 1/60\n",
      "300/300 - 26s - loss: 0.2595 - accuracy: 0.9256 - val_loss: 0.0872 - val_accuracy: 0.9730 - 26s/epoch - 88ms/step\n",
      "Epoch 2/60\n",
      "300/300 - 25s - loss: 0.0792 - accuracy: 0.9762 - val_loss: 0.0544 - val_accuracy: 0.9824 - 25s/epoch - 82ms/step\n",
      "Epoch 3/60\n",
      "300/300 - 20s - loss: 0.0540 - accuracy: 0.9836 - val_loss: 0.0406 - val_accuracy: 0.9869 - 20s/epoch - 66ms/step\n",
      "Epoch 4/60\n",
      "300/300 - 15s - loss: 0.0413 - accuracy: 0.9873 - val_loss: 0.0342 - val_accuracy: 0.9872 - 15s/epoch - 52ms/step\n",
      "Epoch 5/60\n",
      "300/300 - 18s - loss: 0.0348 - accuracy: 0.9892 - val_loss: 0.0390 - val_accuracy: 0.9869 - 18s/epoch - 59ms/step\n",
      "Epoch 6/60\n",
      "300/300 - 23s - loss: 0.0289 - accuracy: 0.9909 - val_loss: 0.0411 - val_accuracy: 0.9861 - 23s/epoch - 75ms/step\n",
      "Epoch 7/60\n",
      "300/300 - 23s - loss: 0.0245 - accuracy: 0.9921 - val_loss: 0.0339 - val_accuracy: 0.9891 - 23s/epoch - 76ms/step\n",
      "Epoch 8/60\n",
      "300/300 - 23s - loss: 0.0205 - accuracy: 0.9936 - val_loss: 0.0353 - val_accuracy: 0.9886 - 23s/epoch - 76ms/step\n",
      "Epoch 9/60\n",
      "300/300 - 23s - loss: 0.0178 - accuracy: 0.9944 - val_loss: 0.0337 - val_accuracy: 0.9887 - 23s/epoch - 75ms/step\n",
      "Epoch 10/60\n",
      "300/300 - 23s - loss: 0.0140 - accuracy: 0.9954 - val_loss: 0.0375 - val_accuracy: 0.9889 - 23s/epoch - 76ms/step\n",
      "Epoch 11/60\n",
      "300/300 - 23s - loss: 0.0125 - accuracy: 0.9962 - val_loss: 0.0325 - val_accuracy: 0.9896 - 23s/epoch - 76ms/step\n",
      "Epoch 12/60\n",
      "300/300 - 23s - loss: 0.0119 - accuracy: 0.9961 - val_loss: 0.0313 - val_accuracy: 0.9897 - 23s/epoch - 76ms/step\n",
      "Epoch 13/60\n",
      "300/300 - 23s - loss: 0.0108 - accuracy: 0.9966 - val_loss: 0.0296 - val_accuracy: 0.9905 - 23s/epoch - 75ms/step\n",
      "Epoch 14/60\n",
      "300/300 - 23s - loss: 0.0103 - accuracy: 0.9966 - val_loss: 0.0319 - val_accuracy: 0.9900 - 23s/epoch - 75ms/step\n",
      "Epoch 15/60\n",
      "300/300 - 23s - loss: 0.0081 - accuracy: 0.9973 - val_loss: 0.0320 - val_accuracy: 0.9903 - 23s/epoch - 77ms/step\n",
      "Epoch 16/60\n",
      "300/300 - 23s - loss: 0.0063 - accuracy: 0.9981 - val_loss: 0.0344 - val_accuracy: 0.9909 - 23s/epoch - 78ms/step\n",
      "Epoch 17/60\n",
      "300/300 - 22s - loss: 0.0066 - accuracy: 0.9979 - val_loss: 0.0362 - val_accuracy: 0.9891 - 22s/epoch - 75ms/step\n",
      "Epoch 18/60\n",
      "300/300 - 22s - loss: 0.0064 - accuracy: 0.9980 - val_loss: 0.0341 - val_accuracy: 0.9908 - 22s/epoch - 74ms/step\n",
      "Epoch 19/60\n",
      "300/300 - 22s - loss: 0.0058 - accuracy: 0.9981 - val_loss: 0.0404 - val_accuracy: 0.9892 - 22s/epoch - 75ms/step\n",
      "Epoch 20/60\n",
      "300/300 - 22s - loss: 0.0066 - accuracy: 0.9976 - val_loss: 0.0424 - val_accuracy: 0.9886 - 22s/epoch - 74ms/step\n",
      "Epoch 21/60\n",
      "300/300 - 22s - loss: 0.0044 - accuracy: 0.9986 - val_loss: 0.0428 - val_accuracy: 0.9894 - 22s/epoch - 75ms/step\n",
      "Epoch 22/60\n",
      "300/300 - 22s - loss: 0.0044 - accuracy: 0.9985 - val_loss: 0.0404 - val_accuracy: 0.9905 - 22s/epoch - 75ms/step\n",
      "Epoch 23/60\n",
      "300/300 - 22s - loss: 0.0039 - accuracy: 0.9988 - val_loss: 0.0358 - val_accuracy: 0.9903 - 22s/epoch - 74ms/step\n",
      "Epoch 24/60\n",
      "300/300 - 22s - loss: 0.0050 - accuracy: 0.9982 - val_loss: 0.0411 - val_accuracy: 0.9898 - 22s/epoch - 74ms/step\n",
      "Epoch 25/60\n",
      "300/300 - 22s - loss: 0.0037 - accuracy: 0.9989 - val_loss: 0.0410 - val_accuracy: 0.9896 - 22s/epoch - 75ms/step\n",
      "Epoch 26/60\n",
      "300/300 - 23s - loss: 0.0028 - accuracy: 0.9992 - val_loss: 0.0379 - val_accuracy: 0.9907 - 23s/epoch - 76ms/step\n",
      "Epoch 27/60\n",
      "300/300 - 23s - loss: 0.0032 - accuracy: 0.9990 - val_loss: 0.0484 - val_accuracy: 0.9881 - 23s/epoch - 75ms/step\n",
      "Epoch 28/60\n",
      "300/300 - 23s - loss: 0.0033 - accuracy: 0.9989 - val_loss: 0.0435 - val_accuracy: 0.9894 - 23s/epoch - 76ms/step\n",
      "Epoch 29/60\n",
      "300/300 - 24s - loss: 0.0027 - accuracy: 0.9991 - val_loss: 0.0435 - val_accuracy: 0.9903 - 24s/epoch - 81ms/step\n",
      "Epoch 30/60\n",
      "300/300 - 23s - loss: 0.0031 - accuracy: 0.9989 - val_loss: 0.0385 - val_accuracy: 0.9911 - 23s/epoch - 78ms/step\n",
      "Epoch 31/60\n",
      "300/300 - 25s - loss: 0.0035 - accuracy: 0.9988 - val_loss: 0.0419 - val_accuracy: 0.9895 - 25s/epoch - 84ms/step\n",
      "Epoch 32/60\n",
      "300/300 - 25s - loss: 0.0032 - accuracy: 0.9990 - val_loss: 0.0417 - val_accuracy: 0.9905 - 25s/epoch - 83ms/step\n",
      "Epoch 33/60\n",
      "300/300 - 26s - loss: 0.0037 - accuracy: 0.9988 - val_loss: 0.0465 - val_accuracy: 0.9904 - 26s/epoch - 88ms/step\n",
      "Epoch 34/60\n",
      "300/300 - 26s - loss: 0.0019 - accuracy: 0.9994 - val_loss: 0.0439 - val_accuracy: 0.9897 - 26s/epoch - 87ms/step\n",
      "Epoch 35/60\n",
      "300/300 - 25s - loss: 0.0017 - accuracy: 0.9994 - val_loss: 0.0424 - val_accuracy: 0.9906 - 25s/epoch - 82ms/step\n",
      "Epoch 36/60\n",
      "300/300 - 22s - loss: 0.0035 - accuracy: 0.9987 - val_loss: 0.0442 - val_accuracy: 0.9897 - 22s/epoch - 74ms/step\n",
      "Epoch 37/60\n",
      "300/300 - 22s - loss: 0.0028 - accuracy: 0.9991 - val_loss: 0.0550 - val_accuracy: 0.9883 - 22s/epoch - 74ms/step\n",
      "Epoch 38/60\n",
      "300/300 - 21s - loss: 0.0032 - accuracy: 0.9988 - val_loss: 0.0496 - val_accuracy: 0.9904 - 21s/epoch - 71ms/step\n",
      "Epoch 39/60\n",
      "300/300 - 21s - loss: 0.0028 - accuracy: 0.9990 - val_loss: 0.0431 - val_accuracy: 0.9900 - 21s/epoch - 69ms/step\n",
      "Epoch 40/60\n",
      "300/300 - 21s - loss: 0.0015 - accuracy: 0.9994 - val_loss: 0.0505 - val_accuracy: 0.9894 - 21s/epoch - 70ms/step\n",
      "Epoch 41/60\n",
      "300/300 - 21s - loss: 0.0033 - accuracy: 0.9990 - val_loss: 0.0560 - val_accuracy: 0.9888 - 21s/epoch - 70ms/step\n",
      "Epoch 42/60\n",
      "300/300 - 21s - loss: 0.0016 - accuracy: 0.9995 - val_loss: 0.0446 - val_accuracy: 0.9900 - 21s/epoch - 69ms/step\n",
      "Epoch 43/60\n",
      "300/300 - 21s - loss: 0.0020 - accuracy: 0.9993 - val_loss: 0.0455 - val_accuracy: 0.9904 - 21s/epoch - 69ms/step\n",
      "Epoch 44/60\n",
      "300/300 - 22s - loss: 0.0019 - accuracy: 0.9994 - val_loss: 0.0483 - val_accuracy: 0.9906 - 22s/epoch - 73ms/step\n",
      "Epoch 45/60\n",
      "300/300 - 25s - loss: 0.0021 - accuracy: 0.9994 - val_loss: 0.0533 - val_accuracy: 0.9902 - 25s/epoch - 83ms/step\n",
      "Epoch 46/60\n",
      "300/300 - 23s - loss: 0.0030 - accuracy: 0.9989 - val_loss: 0.0538 - val_accuracy: 0.9896 - 23s/epoch - 76ms/step\n",
      "Epoch 47/60\n",
      "300/300 - 23s - loss: 0.0018 - accuracy: 0.9993 - val_loss: 0.0551 - val_accuracy: 0.9896 - 23s/epoch - 76ms/step\n",
      "Epoch 48/60\n",
      "300/300 - 23s - loss: 0.0013 - accuracy: 0.9994 - val_loss: 0.0536 - val_accuracy: 0.9898 - 23s/epoch - 76ms/step\n",
      "Epoch 49/60\n",
      "300/300 - 25s - loss: 0.0017 - accuracy: 0.9995 - val_loss: 0.0543 - val_accuracy: 0.9893 - 25s/epoch - 82ms/step\n",
      "Epoch 50/60\n",
      "300/300 - 25s - loss: 0.0022 - accuracy: 0.9993 - val_loss: 0.0604 - val_accuracy: 0.9892 - 25s/epoch - 83ms/step\n",
      "Epoch 51/60\n",
      "300/300 - 25s - loss: 0.0018 - accuracy: 0.9994 - val_loss: 0.0584 - val_accuracy: 0.9896 - 25s/epoch - 82ms/step\n",
      "Epoch 52/60\n",
      "300/300 - 25s - loss: 0.0014 - accuracy: 0.9996 - val_loss: 0.0521 - val_accuracy: 0.9901 - 25s/epoch - 83ms/step\n",
      "Epoch 53/60\n",
      "300/300 - 25s - loss: 0.0015 - accuracy: 0.9994 - val_loss: 0.0567 - val_accuracy: 0.9903 - 25s/epoch - 84ms/step\n",
      "Epoch 54/60\n",
      "300/300 - 26s - loss: 0.0015 - accuracy: 0.9994 - val_loss: 0.0507 - val_accuracy: 0.9911 - 26s/epoch - 85ms/step\n",
      "Epoch 55/60\n",
      "300/300 - 26s - loss: 0.0016 - accuracy: 0.9994 - val_loss: 0.0677 - val_accuracy: 0.9886 - 26s/epoch - 86ms/step\n",
      "Epoch 56/60\n",
      "300/300 - 24s - loss: 0.0011 - accuracy: 0.9996 - val_loss: 0.0603 - val_accuracy: 0.9899 - 24s/epoch - 80ms/step\n",
      "Epoch 57/60\n",
      "300/300 - 25s - loss: 0.0019 - accuracy: 0.9993 - val_loss: 0.0610 - val_accuracy: 0.9887 - 25s/epoch - 84ms/step\n",
      "Epoch 58/60\n",
      "300/300 - 29s - loss: 0.0025 - accuracy: 0.9991 - val_loss: 0.0561 - val_accuracy: 0.9899 - 29s/epoch - 98ms/step\n",
      "Epoch 59/60\n",
      "300/300 - 27s - loss: 0.0020 - accuracy: 0.9993 - val_loss: 0.0603 - val_accuracy: 0.9901 - 27s/epoch - 90ms/step\n",
      "Epoch 60/60\n",
      "300/300 - 19s - loss: 0.0020 - accuracy: 0.9994 - val_loss: 0.0626 - val_accuracy: 0.9892 - 19s/epoch - 64ms/step\n",
      "Error: 1.08%\n"
     ]
    }
   ],
   "source": [
    "model = simple_cnn_model(shape, num_classes)\n",
    "model.fit(X_train, y_train,\n",
    "          validation_data=(X_test, y_test),\n",
    "          epochs=60,\n",
    "          batch_size=200,\n",
    "          verbose=2)\n",
    "\n",
    "scores = model.evaluate(X_test, y_test, verbose=0)\n",
    "print(\"Error: %.2f%%\" % (100-scores[1]*100))"
   ]
  },
  {
   "cell_type": "code",
   "execution_count": 12,
   "metadata": {},
   "outputs": [],
   "source": [
    "# save it\n",
    "model_json = model.to_json()\n",
    "with open(\"model_digit.json\", \"w\") as json_file:\n",
    "    json_file.write(model_json)\n",
    "model.save_weights(\"model_digit.h5\")"
   ]
  }
 ],
 "metadata": {
  "kernelspec": {
   "display_name": "Python 3",
   "language": "python",
   "name": "python3"
  },
  "language_info": {
   "codemirror_mode": {
    "name": "ipython",
    "version": 3
   },
   "file_extension": ".py",
   "mimetype": "text/x-python",
   "name": "python",
   "nbconvert_exporter": "python",
   "pygments_lexer": "ipython3",
   "version": "3.11.0"
  },
  "orig_nbformat": 4
 },
 "nbformat": 4,
 "nbformat_minor": 2
}
