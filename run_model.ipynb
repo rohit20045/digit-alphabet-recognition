{
 "cells": [
  {
   "cell_type": "code",
   "execution_count": 1,
   "metadata": {},
   "outputs": [],
   "source": [
    "from keras.models import model_from_json\n",
    "from keras.preprocessing.image import img_to_array\n",
    "import tkinter as tk\n",
    "from PIL import Image, ImageDraw\n",
    "import matplotlib.pyplot as plt\n",
    "import numpy as np\n",
    "from IPython.display import display\n"
   ]
  },
  {
   "cell_type": "code",
   "execution_count": 2,
   "metadata": {},
   "outputs": [],
   "source": [
    "DRAWING_AREA = (280, 280)\n",
    "\n",
    "def simple_cnn_preprocessor(data):\n",
    "    return np.expand_dims(data, axis=0)\n",
    "\n",
    "predictions_digit = [0 for x in range(10)]\n",
    "predictions_alpha = [0 for x in range(26)]\n",
    "\n",
    "ax = None"
   ]
  },
  {
   "cell_type": "code",
   "execution_count": 3,
   "metadata": {},
   "outputs": [
    {
     "name": "stdout",
     "output_type": "stream",
     "text": [
      "10\n",
      "26\n"
     ]
    }
   ],
   "source": [
    "print(len(predictions_digit))\n",
    "print(len(predictions_alpha))"
   ]
  },
  {
   "cell_type": "code",
   "execution_count": 4,
   "metadata": {},
   "outputs": [],
   "source": [
    "# load the model\n",
    "with open('./model/model_alpha_small.json', 'r') as json_file:\n",
    "    model_alpha_json = json_file.read()\n",
    "model_alpha = model_from_json(model_alpha_json)\n",
    "model_alpha.load_weights('./model/model_alpha_small.h5')"
   ]
  },
  {
   "cell_type": "code",
   "execution_count": 5,
   "metadata": {},
   "outputs": [],
   "source": [
    "# load the model\n",
    "with open('./model/model_digit.json', 'r') as json_file:\n",
    "    model_json = json_file.read()\n",
    "model_digit= model_from_json(model_json)\n",
    "model_digit.load_weights('./model/model_digit.h5')"
   ]
  },
  {
   "cell_type": "code",
   "execution_count": 6,
   "metadata": {},
   "outputs": [],
   "source": [
    "def new_image():\n",
    "    return Image.new(\"L\", DRAWING_AREA)"
   ]
  },
  {
   "cell_type": "code",
   "execution_count": 8,
   "metadata": {},
   "outputs": [
    {
     "data": {
      "image/jpeg": "[encoded data removed]",
      "image/png": "[encoded data removed]",
      "text/plain": [
       "<PIL.Image.Image image mode=L size=28x28>"
      ]
     },
     "metadata": {},
     "output_type": "display_data"
    },
    {
     "name": "stdout",
     "output_type": "stream",
     "text": [
      "1/1 [==============================] - 0s 21ms/step\n",
      "The digit is: 3\n"
     ]
    },
    {
     "data": {
      "image/jpeg": "[encoded data removed]",
      "image/png": "[encoded data removed]",
      "text/plain": [
       "<PIL.Image.Image image mode=L size=28x28>"
      ]
     },
     "metadata": {},
     "output_type": "display_data"
    },
    {
     "name": "stdout",
     "output_type": "stream",
     "text": [
      "1/1 [==============================] - 0s 20ms/step\n",
      "The digit is: 8\n"
     ]
    },
    {
     "data": {
      "image/jpeg": "[encoded data removed]",
      "image/png": "[encoded data removed]",
      "text/plain": [
       "<PIL.Image.Image image mode=L size=28x28>"
      ]
     },
     "metadata": {},
     "output_type": "display_data"
    },
    {
     "name": "stdout",
     "output_type": "stream",
     "text": [
      "1/1 [==============================] - 0s 21ms/step\n",
      "The digit is: 3\n"
     ]
    }
   ],
   "source": [
    "\n",
    "image = new_image()\n",
    "drawer = ImageDraw.Draw(image)\n",
    "\n",
    "def process_image():\n",
    "    # Load the image\n",
    "    temp_image = image.copy()  \n",
    "\n",
    "    # Convert the image to grayscale\n",
    "    gray_image = temp_image.convert('L')\n",
    "    gray_image = gray_image.resize((28, 28))\n",
    "    display(gray_image)\n",
    "    temp_image = img_to_array(gray_image)\n",
    "    temp_image = simple_cnn_preprocessor(temp_image)\n",
    "    temp_image = temp_image / 255\n",
    "    return temp_image\n",
    "\n",
    "def digit_predict():\n",
    "    temp_image=process_image()\n",
    "    predictions_digit = model_digit.predict(temp_image)[0]\n",
    "    max_index, max_element = max(enumerate(predictions_digit), key=lambda x: x[1])\n",
    "    return max_index\n",
    "\n",
    "def alphabet_predict():\n",
    "    temp_image=process_image()\n",
    "    predictions_alpha = model_alpha.predict(temp_image)[0].tolist()\n",
    "    max_index, max_element = max(enumerate(predictions_alpha), key=lambda x: x[1])\n",
    "    return max_index\n",
    "\n",
    "def predict_and_display():\n",
    "    selected_option = var.get()  # Get the selected option (Digit or Alphabet)                    \n",
    "    result = predict_img(selected_option)\n",
    "\n",
    "    # Show the result in the text field\n",
    "    text_field.config(state=tk.NORMAL)\n",
    "    text_field.delete(1.0, tk.END)\n",
    "    text_field.insert(tk.END, result)\n",
    "    text_field.config(state=tk.DISABLED)\n",
    "\n",
    "\n",
    "def predict_img(selected_option):\n",
    "\n",
    "    if selected_option == \"Digit\":\n",
    "        result=\"The digit is: \"\n",
    "        pre=digit_predict()\n",
    "\n",
    "        pre=str(pre)\n",
    "        result+=pre  \n",
    "        print(result)       \n",
    "        return result\n",
    "    \n",
    "    elif selected_option == \"Alphabet\":\n",
    "        result=\"The Alphabet is: \"\n",
    "        pre=alphabet_predict()\n",
    "        new=chr(ord('A') + pre )\n",
    "        result+=new        \n",
    "        print(result)\n",
    "        return result\n",
    "    else:\n",
    "        return \"Select Digit or Alphabet\"\n",
    "\n",
    "# helper functions\n",
    "def _paint_(event):\n",
    "    global predictions, ax\n",
    "    x1, y1 = (event.x - 5), (event.y - 5)\n",
    "    x2, y2 = (event.x + 5), (event.y + 5)\n",
    "    canvas.create_oval(x1, y1, x2, y2, fill=\"#FFFFFF\", outline=\"\")\n",
    "    drawer.ellipse([x1, y1, x2, y2], fill=255, outline=255)\n",
    "\n",
    "def _clear_():\n",
    "    global image, drawer, predictions\n",
    "    canvas.delete(\"all\")\n",
    "    image = new_image()\n",
    "    drawer = ImageDraw.Draw(image)\n",
    "    text_field.config(state=tk.NORMAL)\n",
    "    text_field.delete(1.0, tk.END)\n",
    "\n",
    "# create the canvas\n",
    "master = tk.Tk()\n",
    "master.title(\"Digit Alphabet Recognition\")\n",
    "canvas = tk.Canvas(master,\n",
    "                   width=DRAWING_AREA[0],\n",
    "                   height=DRAWING_AREA[1])\n",
    "canvas.configure(background=\"black\")\n",
    "canvas.pack()\n",
    "canvas.bind(\"<B1-Motion>\", _paint_)\n",
    "\n",
    "# Create a variable to store the selected option (Digit or Alphabet)\n",
    "var = tk.StringVar()\n",
    "\n",
    "# Checkboxes for selecting \"Digit\" and \"Alphabet\"\n",
    "digit_checkbox = tk.Checkbutton(master, text=\"Digit\", variable=var, onvalue=\"Digit\", offvalue=\"\")\n",
    "alphabet_checkbox = tk.Checkbutton(master, text=\"Alphabet\", variable=var, onvalue=\"Alphabet\", offvalue=\"\")\n",
    "digit_checkbox.pack()\n",
    "alphabet_checkbox.pack()\n",
    "\n",
    "predict=tk.Button(master, text=\"Predict\", command=predict_and_display)\n",
    "predict.pack()\n",
    "\n",
    "clear = tk.Button(master, text=\"CLEAR\", command=_clear_)\n",
    "clear.pack(side=tk.BOTTOM)\n",
    "\n",
    "# Text field for displaying output\n",
    "text_field = tk.Text(master, height=6, width=40, state=tk.DISABLED)\n",
    "text_field.pack()\n",
    "\n",
    "tk.mainloop()"
   ]
  },
  {
   "cell_type": "code",
   "execution_count": null,
   "metadata": {},
   "outputs": [],
   "source": []
  }
 ],
 "metadata": {
  "kernelspec": {
   "display_name": "Python 3",
   "language": "python",
   "name": "python3"
  },
  "language_info": {
   "codemirror_mode": {
    "name": "ipython",
    "version": 3
   },
   "file_extension": ".py",
   "mimetype": "text/x-python",
   "name": "python",
   "nbconvert_exporter": "python",
   "pygments_lexer": "ipython3",
   "version": "3.11.0"
  },
  "orig_nbformat": 4
 },
 "nbformat": 4,
 "nbformat_minor": 2
}
