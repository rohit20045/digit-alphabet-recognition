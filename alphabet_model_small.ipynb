{
 "cells": [
  {
   "cell_type": "code",
   "execution_count": 1,
   "metadata": {},
   "outputs": [],
   "source": [
    "import csv\n",
    "import pandas as pd\n",
    "import numpy as np\n",
    "import tensorflow as tf\n",
    "from sklearn.model_selection import train_test_split\n",
    "import matplotlib.pyplot as plt\n",
    "import keras\n",
    "from keras import layers"
   ]
  },
  {
   "cell_type": "code",
   "execution_count": 2,
   "metadata": {},
   "outputs": [],
   "source": [
    "# Specify the CSV file path\n",
    "#model dataset can be downloaded from @https://www.kaggle.com/datasets/ashishguptajiit/handwritten-az\n",
    "\n",
    "data = pd.read_csv('alphabet.csv')"
   ]
  },
  {
   "cell_type": "code",
   "execution_count": 3,
   "metadata": {},
   "outputs": [],
   "source": [
    "output_data=data['0']\n",
    "train=data.drop(labels=['0'],axis=1)"
   ]
  },
  {
   "cell_type": "code",
   "execution_count": 4,
   "metadata": {},
   "outputs": [],
   "source": [
    "train=train/255"
   ]
  },
  {
   "cell_type": "code",
   "execution_count": 5,
   "metadata": {},
   "outputs": [
    {
     "name": "stdout",
     "output_type": "stream",
     "text": [
      "Shape of reshaped_data: (372450, 28, 28, 1)\n"
     ]
    }
   ],
   "source": [
    "# Convert the DataFrame to a NumPy ndarray\n",
    "train = train.to_numpy()\n",
    "\n",
    "X_train = train.reshape((train.shape[0], 28, 28, 1))\n",
    "\n",
    "# Print the shape of the reshaped array\n",
    "print(\"Shape of reshaped_data:\", X_train.shape)"
   ]
  },
  {
   "cell_type": "code",
   "execution_count": 6,
   "metadata": {},
   "outputs": [],
   "source": [
    "#Converting the label into a categorical array for easier user\n",
    "Y_train = tf.keras.utils.to_categorical(output_data, num_classes=26)"
   ]
  },
  {
   "cell_type": "code",
   "execution_count": 7,
   "metadata": {},
   "outputs": [],
   "source": [
    "shape = (X_train.shape[1], X_train.shape[2], 1)"
   ]
  },
  {
   "cell_type": "code",
   "execution_count": 8,
   "metadata": {},
   "outputs": [
    {
     "name": "stdout",
     "output_type": "stream",
     "text": [
      "(28, 28, 1)\n"
     ]
    }
   ],
   "source": [
    "print(shape)"
   ]
  },
  {
   "cell_type": "code",
   "execution_count": 9,
   "metadata": {},
   "outputs": [],
   "source": [
    "#Spliting Train and test set\n",
    "random_seed =2\n",
    "X_train,X_test,Y_train,Y_test = train_test_split(X_train,Y_train,test_size=0.1,\n",
    "                                                random_state = random_seed)\n",
    "num_classes=26"
   ]
  },
  {
   "cell_type": "code",
   "execution_count": 10,
   "metadata": {},
   "outputs": [],
   "source": [
    "from keras.models import Sequential\n",
    "from keras.layers import Dense, Dropout, Flatten\n",
    "from keras.layers import Conv2D, MaxPooling2D"
   ]
  },
  {
   "cell_type": "code",
   "execution_count": 11,
   "metadata": {},
   "outputs": [],
   "source": [
    "def simple_cnn_model(shape, num_classes):\n",
    "    # create\n",
    "    model = Sequential()\n",
    "    model.add(Conv2D(32, (5, 5), input_shape=shape, activation='relu'))\n",
    "    model.add(MaxPooling2D(pool_size=(2, 2)))\n",
    "    model.add(Dropout(0.2))\n",
    "    model.add(Flatten())\n",
    "    model.add(Dense(128, activation='relu'))\n",
    "    model.add(Dense(num_classes, activation='softmax'))\n",
    "    \n",
    "    # compile\n",
    "    model.compile(loss='categorical_crossentropy', optimizer='adam', metrics=['accuracy'])\n",
    "    return model"
   ]
  },
  {
   "cell_type": "code",
   "execution_count": 12,
   "metadata": {},
   "outputs": [
    {
     "name": "stdout",
     "output_type": "stream",
     "text": [
      "Epoch 1/50\n",
      "1677/1677 - 66s - loss: 0.2054 - accuracy: 0.9433 - val_loss: 0.0818 - val_accuracy: 0.9773 - 66s/epoch - 40ms/step\n",
      "Epoch 2/50\n",
      "1677/1677 - 64s - loss: 0.0754 - accuracy: 0.9788 - val_loss: 0.0623 - val_accuracy: 0.9827 - 64s/epoch - 38ms/step\n",
      "Epoch 3/50\n",
      "1677/1677 - 67s - loss: 0.0565 - accuracy: 0.9840 - val_loss: 0.0494 - val_accuracy: 0.9864 - 67s/epoch - 40ms/step\n",
      "Epoch 4/50\n",
      "1677/1677 - 66s - loss: 0.0446 - accuracy: 0.9870 - val_loss: 0.0452 - val_accuracy: 0.9874 - 66s/epoch - 39ms/step\n",
      "Epoch 5/50\n",
      "1677/1677 - 70s - loss: 0.0358 - accuracy: 0.9893 - val_loss: 0.0384 - val_accuracy: 0.9890 - 70s/epoch - 42ms/step\n",
      "Epoch 6/50\n",
      "1677/1677 - 70s - loss: 0.0288 - accuracy: 0.9909 - val_loss: 0.0355 - val_accuracy: 0.9904 - 70s/epoch - 42ms/step\n",
      "Epoch 7/50\n",
      "1677/1677 - 66s - loss: 0.0243 - accuracy: 0.9921 - val_loss: 0.0268 - val_accuracy: 0.9914 - 66s/epoch - 39ms/step\n",
      "Epoch 8/50\n",
      "1677/1677 - 67s - loss: 0.0198 - accuracy: 0.9935 - val_loss: 0.0255 - val_accuracy: 0.9926 - 67s/epoch - 40ms/step\n",
      "Epoch 9/50\n",
      "1677/1677 - 67s - loss: 0.0172 - accuracy: 0.9942 - val_loss: 0.0249 - val_accuracy: 0.9925 - 67s/epoch - 40ms/step\n",
      "Epoch 10/50\n",
      "1677/1677 - 68s - loss: 0.0153 - accuracy: 0.9949 - val_loss: 0.0211 - val_accuracy: 0.9939 - 68s/epoch - 41ms/step\n",
      "Epoch 11/50\n",
      "1677/1677 - 67s - loss: 0.0135 - accuracy: 0.9953 - val_loss: 0.0208 - val_accuracy: 0.9939 - 67s/epoch - 40ms/step\n",
      "Epoch 12/50\n",
      "1677/1677 - 73s - loss: 0.0118 - accuracy: 0.9960 - val_loss: 0.0214 - val_accuracy: 0.9943 - 73s/epoch - 44ms/step\n",
      "Epoch 13/50\n",
      "1677/1677 - 74s - loss: 0.0104 - accuracy: 0.9965 - val_loss: 0.0181 - val_accuracy: 0.9952 - 74s/epoch - 44ms/step\n",
      "Epoch 14/50\n",
      "1677/1677 - 74s - loss: 0.0097 - accuracy: 0.9966 - val_loss: 0.0218 - val_accuracy: 0.9944 - 74s/epoch - 44ms/step\n",
      "Epoch 15/50\n",
      "1677/1677 - 73s - loss: 0.0096 - accuracy: 0.9967 - val_loss: 0.0162 - val_accuracy: 0.9956 - 73s/epoch - 44ms/step\n",
      "Epoch 16/50\n",
      "1677/1677 - 70s - loss: 0.0090 - accuracy: 0.9969 - val_loss: 0.0203 - val_accuracy: 0.9947 - 70s/epoch - 42ms/step\n",
      "Epoch 17/50\n",
      "1677/1677 - 71s - loss: 0.0075 - accuracy: 0.9974 - val_loss: 0.0184 - val_accuracy: 0.9951 - 71s/epoch - 42ms/step\n",
      "Epoch 18/50\n",
      "1677/1677 - 65s - loss: 0.0077 - accuracy: 0.9972 - val_loss: 0.0178 - val_accuracy: 0.9956 - 65s/epoch - 39ms/step\n",
      "Epoch 19/50\n",
      "1677/1677 - 65s - loss: 0.0070 - accuracy: 0.9975 - val_loss: 0.0178 - val_accuracy: 0.9960 - 65s/epoch - 39ms/step\n",
      "Epoch 20/50\n",
      "1677/1677 - 61s - loss: 0.0070 - accuracy: 0.9976 - val_loss: 0.0171 - val_accuracy: 0.9965 - 61s/epoch - 37ms/step\n",
      "Epoch 21/50\n",
      "1677/1677 - 60s - loss: 0.0068 - accuracy: 0.9976 - val_loss: 0.0173 - val_accuracy: 0.9961 - 60s/epoch - 36ms/step\n",
      "Epoch 22/50\n",
      "1677/1677 - 66s - loss: 0.0064 - accuracy: 0.9978 - val_loss: 0.0211 - val_accuracy: 0.9956 - 66s/epoch - 39ms/step\n",
      "Epoch 23/50\n",
      "1677/1677 - 68s - loss: 0.0062 - accuracy: 0.9979 - val_loss: 0.0187 - val_accuracy: 0.9962 - 68s/epoch - 40ms/step\n",
      "Epoch 24/50\n",
      "1677/1677 - 65s - loss: 0.0060 - accuracy: 0.9979 - val_loss: 0.0183 - val_accuracy: 0.9967 - 65s/epoch - 39ms/step\n",
      "Epoch 25/50\n",
      "1677/1677 - 64s - loss: 0.0052 - accuracy: 0.9982 - val_loss: 0.0166 - val_accuracy: 0.9969 - 64s/epoch - 38ms/step\n",
      "Epoch 26/50\n",
      "1677/1677 - 64s - loss: 0.0059 - accuracy: 0.9980 - val_loss: 0.0182 - val_accuracy: 0.9968 - 64s/epoch - 38ms/step\n",
      "Epoch 27/50\n",
      "1677/1677 - 67s - loss: 0.0053 - accuracy: 0.9982 - val_loss: 0.0167 - val_accuracy: 0.9967 - 67s/epoch - 40ms/step\n",
      "Epoch 28/50\n",
      "1677/1677 - 64s - loss: 0.0054 - accuracy: 0.9981 - val_loss: 0.0180 - val_accuracy: 0.9963 - 64s/epoch - 38ms/step\n",
      "Epoch 29/50\n",
      "1677/1677 - 65s - loss: 0.0050 - accuracy: 0.9983 - val_loss: 0.0183 - val_accuracy: 0.9968 - 65s/epoch - 39ms/step\n",
      "Epoch 30/50\n",
      "1677/1677 - 65s - loss: 0.0055 - accuracy: 0.9982 - val_loss: 0.0195 - val_accuracy: 0.9961 - 65s/epoch - 38ms/step\n",
      "Epoch 31/50\n",
      "1677/1677 - 64s - loss: 0.0051 - accuracy: 0.9983 - val_loss: 0.0201 - val_accuracy: 0.9964 - 64s/epoch - 38ms/step\n",
      "Epoch 32/50\n",
      "1677/1677 - 65s - loss: 0.0048 - accuracy: 0.9984 - val_loss: 0.0200 - val_accuracy: 0.9965 - 65s/epoch - 39ms/step\n",
      "Epoch 33/50\n",
      "1677/1677 - 64s - loss: 0.0045 - accuracy: 0.9985 - val_loss: 0.0192 - val_accuracy: 0.9966 - 64s/epoch - 38ms/step\n",
      "Epoch 34/50\n",
      "1677/1677 - 66s - loss: 0.0048 - accuracy: 0.9984 - val_loss: 0.0197 - val_accuracy: 0.9968 - 66s/epoch - 39ms/step\n",
      "Epoch 35/50\n",
      "1677/1677 - 65s - loss: 0.0040 - accuracy: 0.9987 - val_loss: 0.0198 - val_accuracy: 0.9970 - 65s/epoch - 39ms/step\n",
      "Epoch 36/50\n",
      "1677/1677 - 64s - loss: 0.0045 - accuracy: 0.9985 - val_loss: 0.0202 - val_accuracy: 0.9969 - 64s/epoch - 38ms/step\n",
      "Epoch 37/50\n",
      "1677/1677 - 64s - loss: 0.0045 - accuracy: 0.9986 - val_loss: 0.0209 - val_accuracy: 0.9968 - 64s/epoch - 38ms/step\n",
      "Epoch 38/50\n",
      "1677/1677 - 63s - loss: 0.0043 - accuracy: 0.9985 - val_loss: 0.0263 - val_accuracy: 0.9962 - 63s/epoch - 38ms/step\n",
      "Epoch 39/50\n",
      "1677/1677 - 63s - loss: 0.0041 - accuracy: 0.9987 - val_loss: 0.0218 - val_accuracy: 0.9964 - 63s/epoch - 38ms/step\n",
      "Epoch 40/50\n",
      "1677/1677 - 63s - loss: 0.0040 - accuracy: 0.9987 - val_loss: 0.0219 - val_accuracy: 0.9966 - 63s/epoch - 37ms/step\n",
      "Epoch 41/50\n",
      "1677/1677 - 63s - loss: 0.0046 - accuracy: 0.9986 - val_loss: 0.0215 - val_accuracy: 0.9967 - 63s/epoch - 38ms/step\n",
      "Epoch 42/50\n",
      "1677/1677 - 64s - loss: 0.0046 - accuracy: 0.9985 - val_loss: 0.0203 - val_accuracy: 0.9972 - 64s/epoch - 38ms/step\n",
      "Epoch 43/50\n",
      "1677/1677 - 64s - loss: 0.0039 - accuracy: 0.9987 - val_loss: 0.0241 - val_accuracy: 0.9966 - 64s/epoch - 38ms/step\n",
      "Epoch 44/50\n",
      "1677/1677 - 64s - loss: 0.0037 - accuracy: 0.9988 - val_loss: 0.0214 - val_accuracy: 0.9967 - 64s/epoch - 38ms/step\n",
      "Epoch 45/50\n",
      "1677/1677 - 68s - loss: 0.0040 - accuracy: 0.9987 - val_loss: 0.0221 - val_accuracy: 0.9966 - 68s/epoch - 41ms/step\n",
      "Epoch 46/50\n",
      "1677/1677 - 66s - loss: 0.0035 - accuracy: 0.9989 - val_loss: 0.0216 - val_accuracy: 0.9963 - 66s/epoch - 39ms/step\n",
      "Epoch 47/50\n",
      "1677/1677 - 63s - loss: 0.0042 - accuracy: 0.9987 - val_loss: 0.0211 - val_accuracy: 0.9966 - 63s/epoch - 38ms/step\n",
      "Epoch 48/50\n",
      "1677/1677 - 64s - loss: 0.0036 - accuracy: 0.9988 - val_loss: 0.0201 - val_accuracy: 0.9976 - 64s/epoch - 38ms/step\n",
      "Epoch 49/50\n",
      "1677/1677 - 66s - loss: 0.0037 - accuracy: 0.9988 - val_loss: 0.0214 - val_accuracy: 0.9972 - 66s/epoch - 39ms/step\n",
      "Epoch 50/50\n",
      "1677/1677 - 63s - loss: 0.0039 - accuracy: 0.9988 - val_loss: 0.0216 - val_accuracy: 0.9969 - 63s/epoch - 38ms/step\n",
      "Error: 0.31%\n"
     ]
    }
   ],
   "source": [
    "model_new = simple_cnn_model(shape, num_classes)\n",
    "model_new.fit(X_train, Y_train,\n",
    "          validation_data=(X_test, Y_test),\n",
    "          epochs=50,\n",
    "          batch_size=200,\n",
    "          verbose=2)\n",
    "\n",
    "scores = model_new.evaluate(X_test, Y_test, verbose=0)\n",
    "print(\"Error: %.2f%%\" % (100-scores[1]*100))"
   ]
  },
  {
   "cell_type": "code",
   "execution_count": 13,
   "metadata": {},
   "outputs": [],
   "source": [
    "# save it\n",
    "model_json = model_new.to_json()\n",
    "with open(\"model_alpha_small.json\", \"w\") as json_file:\n",
    "    json_file.write(model_json)\n",
    "model_new.save_weights(\"model_alpha_small.h5\")"
   ]
  }
 ],
 "metadata": {
  "kernelspec": {
   "display_name": "Python 3",
   "language": "python",
   "name": "python3"
  },
  "language_info": {
   "codemirror_mode": {
    "name": "ipython",
    "version": 3
   },
   "file_extension": ".py",
   "mimetype": "text/x-python",
   "name": "python",
   "nbconvert_exporter": "python",
   "pygments_lexer": "ipython3",
   "version": "3.11.0"
  },
  "orig_nbformat": 4
 },
 "nbformat": 4,
 "nbformat_minor": 2
}
